{
 "cells": [
  {
   "cell_type": "markdown",
   "metadata": {},
   "source": [
    "### BIOS 60318 Francisco Huizar Assignment 8"
   ]
  },
  {
   "cell_type": "markdown",
   "metadata": {},
   "source": [
    "### $\\color{blue}{Problem \\space 1}$"
   ]
  },
  {
   "cell_type": "code",
   "execution_count": 1,
   "metadata": {},
   "outputs": [],
   "source": [
    "# Import necessary packages and data\n",
    "import csv\n",
    "import numpy as np\n",
    "import matplotlib.pyplot as plt\n",
    "import pandas as pd\n",
    "import os.path\n",
    "\n",
    "# Let's load the sports data\n",
    "sportsData = pd.read_table('UWvMSU_1-22-13.txt', header = 0, sep=\"\\t\")"
   ]
  },
  {
   "cell_type": "code",
   "execution_count": 2,
   "metadata": {},
   "outputs": [],
   "source": [
    "# Let's get the information for Univesity of wisconsin\n",
    "UWdata = sportsData[sportsData['team'].str.contains('UW')]\n",
    "nRows = len(UWdata.index)\n",
    "nCols = len(UWdata.columns)\n",
    "\n",
    "# Initialize empty arrays\n",
    "UWtime = [0]\n",
    "UWscore = [0]\n",
    "UWcumul = [0]\n",
    "\n",
    "# Loop over the rows to add time and calculaute cumulative score\n",
    "for i in range(0, nRows):\n",
    "    UWtime.append(UWdata.iloc[i, 0])\n",
    "    UWscore = UWdata.iloc[i, 2]\n",
    "    UWcumul.append(UWcumul[i] + UWscore)"
   ]
  },
  {
   "cell_type": "code",
   "execution_count": 3,
   "metadata": {},
   "outputs": [],
   "source": [
    "# Let's get information for Michigan Stae\n",
    "MSUdata = sportsData[sportsData['team'].str.contains('MSU')]\n",
    "nRows = len(MSUdata.index)\n",
    "nCols = len(MSUdata.columns)\n",
    "\n",
    "# Initialize empty arrays\n",
    "MSUtime = [0]\n",
    "MSUscore = [0]\n",
    "MSUcumul = [0]\n",
    "\n",
    "# Loop over the rows to add time and calculaute cumulative score\n",
    "for i in range(0, nRows):\n",
    "    MSUtime.append(MSUdata.iloc[i, 0])\n",
    "    MSUscore = MSUdata.iloc[i, 2]\n",
    "    MSUcumul.append(MSUcumul[i] + MSUscore)"
   ]
  },
  {
   "cell_type": "code",
   "execution_count": 4,
   "metadata": {},
   "outputs": [
    {
     "data": {
      "image/png": "[encoded data removed]",
      "text/plain": [
       "<Figure size 432x288 with 1 Axes>"
      ]
     },
     "metadata": {},
     "output_type": "display_data"
    }
   ],
   "source": [
    "# Use MATLAB plot tools\n",
    "plt.plot(UWtime, UWcumul, 'r-', label=\"Univeristy of Wisconsin\")\n",
    "plt.plot(MSUtime, MSUcumul, 'g-', label=\"Michigan State\")\n",
    "plt.xlabel('Time (seconds)')\n",
    "plt.ylabel('Cumulative Score')\n",
    "plt.title('Exercise 8 Problem 1')\n",
    "plt.legend()\n",
    "plt.show()"
   ]
  },
  {
   "cell_type": "markdown",
   "metadata": {},
   "source": [
    "### $\\color{blue}{Problem \\space 2}$"
   ]
  },
  {
   "cell_type": "code",
   "execution_count": 5,
   "metadata": {},
   "outputs": [
    {
     "name": "stdout",
     "output_type": "stream",
     "text": [
      "I am thinking of a number between 1 and 100. . .\n",
      "How many guesses do you think you need?\n",
      "\n",
      "10\n",
      "\n",
      "Take a guess at the number!\n",
      "1\n",
      "\n",
      "Your guess is too low\n",
      "\n",
      "Take a guess at the number!\n",
      "12\n",
      "\n",
      "Your guess is too low\n",
      "\n",
      "Take a guess at the number!\n",
      "75\n",
      "\n",
      "Your guess is too high\n",
      "\n",
      "Take a guess at the number!\n",
      "50\n",
      "\n",
      "Your guess is too high\n",
      "\n",
      "Take a guess at the number!\n",
      "38\n",
      "\n",
      "You guessed correctly with: 5 attempts\n"
     ]
    }
   ],
   "source": [
    "# Set seed for reproducibility\n",
    "np.random.seed(seed = 1)\n",
    "numberTries = 0\n",
    "\n",
    "print('I am thinking of a number between 1 and 100. . .')\n",
    "\n",
    "# Generate the random number\n",
    "randomNumber = np.random.randint(1,100,1)\n",
    "\n",
    "print('How many guesses do you think you need?\\n')\n",
    "\n",
    "# Set the maximum number of guesses\n",
    "maxGuesses = int(input())\n",
    "\n",
    "# While attempts less than maxguesses, play the game\n",
    "while numberTries < maxGuesses:\n",
    "    print('\\nTake a guess at the number!')\n",
    "    guess = int(input())\n",
    "    numberTries += 1   \n",
    "    \n",
    "    if guess < randomNumber:\n",
    "        print('\\nYour guess is too low')\n",
    "    elif guess > randomNumber:\n",
    "        print('\\nYour guess is too high')\n",
    "    elif guess == randomNumber:\n",
    "        break\n",
    "\n",
    "if guess == randomNumber:\n",
    "    print('\\nYou guessed correctly with:', numberTries, 'attempts')\n",
    "else:\n",
    "    print('\\nYou exceeded the maximum number of guesses')\n",
    "    print('Sorry, I was thinking of the number', randomNumber[0])\n"
   ]
  }
 ],
 "metadata": {
  "kernelspec": {
   "display_name": "Python 3",
   "language": "python",
   "name": "python3"
  },
  "language_info": {
   "codemirror_mode": {
    "name": "ipython",
    "version": 3
   },
   "file_extension": ".py",
   "mimetype": "text/x-python",
   "name": "python",
   "nbconvert_exporter": "python",
   "pygments_lexer": "ipython3",
   "version": "3.6.4"
  }
 },
 "nbformat": 4,
 "nbformat_minor": 2
}
